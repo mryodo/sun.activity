{
 "cells": [
  {
   "cell_type": "code",
   "execution_count": 1,
   "metadata": {
    "collapsed": true
   },
   "outputs": [],
   "source": [
    "import scipy.integrate as integrate\n",
    "import matplotlib.pyplot as plt\n",
    "import numpy as np\n",
    "from scipy import interpolate\n",
    "\n",
    "from math import *"
   ]
  },
  {
   "cell_type": "code",
   "execution_count": 18,
   "metadata": {
    "collapsed": true
   },
   "outputs": [],
   "source": [
    "N_grid=4000\n",
    "L=5*np.pi\n",
    "\n",
    "W=2*np.pi\n",
    "T=2*np.pi/W\n",
    "dw=0.1\n",
    "t=(1/T)*np.linspace(1, N_grid-3*p, N_grid-3*p)\n",
    "h=t[2]-t[1]\n",
    "\n",
    "p=int(round(T/h))"
   ]
  },
  {
   "cell_type": "code",
   "execution_count": 19,
   "metadata": {},
   "outputs": [],
   "source": [
    "jump_k=np.fromfile(file='jump_k_1.txt', sep=',')\n",
    "jump_Rk=np.fromfile(file='jump_Rk_1.txt', sep=',')\n",
    "jump_Rk0=np.fromfile(file='jump_Rk0_1.txt', sep=',')\n",
    "\n",
    "jump_phi=np.fromfile(file='jump_phi_1.txt', sep=',')\n",
    "jump_Rphi=np.fromfile(file='jump_Rphi_1.txt', sep=',')\n",
    "jump_Rphi0=np.fromfile(file='jump_Rphi0_1.txt', sep=',')"
   ]
  },
  {
   "cell_type": "code",
   "execution_count": 26,
   "metadata": {},
   "outputs": [
    {
     "data": {
      "image/png": "[encoded data removed]",
      "text/plain": [
       "<matplotlib.figure.Figure at 0x7f444a228eb8>"
      ]
     },
     "metadata": {},
     "output_type": "display_data"
    }
   ],
   "source": [
    "plt.figure()\n",
    "\n",
    "plt.plot(t, jump_Rphi0)\n",
    "plt.show()"
   ]
  },
  {
   "cell_type": "code",
   "execution_count": 17,
   "metadata": {},
   "outputs": [
    {
     "data": {
      "text/plain": [
       "array([ 1.,  2.,  3.,  4.,  5.])"
      ]
     },
     "execution_count": 17,
     "metadata": {},
     "output_type": "execute_result"
    }
   ],
   "source": [
    "np.linspace(1, 5, 5)"
   ]
  },
  {
   "cell_type": "code",
   "execution_count": null,
   "metadata": {
    "collapsed": true
   },
   "outputs": [],
   "source": []
  }
 ],
 "metadata": {
  "kernelspec": {
   "display_name": "Python 3",
   "language": "python",
   "name": "python3"
  },
  "language_info": {
   "codemirror_mode": {
    "name": "ipython",
    "version": 3
   },
   "file_extension": ".py",
   "mimetype": "text/x-python",
   "name": "python",
   "nbconvert_exporter": "python",
   "pygments_lexer": "ipython3",
   "version": "3.6.1"
  }
 },
 "nbformat": 4,
 "nbformat_minor": 2
}
