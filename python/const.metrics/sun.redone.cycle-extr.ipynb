{
 "cells": [
  {
   "cell_type": "code",
   "execution_count": 21,
   "metadata": {
    "collapsed": true
   },
   "outputs": [],
   "source": [
    "import matplotlib.pyplot as plt\n",
    "import numpy as np\n",
    "from scipy import interpolate\n",
    "from scipy.signal import argrelextrema\n",
    "import time\n",
    "\n",
    "from math import *"
   ]
  },
  {
   "cell_type": "code",
   "execution_count": 26,
   "metadata": {
    "collapsed": true
   },
   "outputs": [],
   "source": [
    "W=2*np.pi\n",
    "T=(2*np.pi)/W\n",
    "n=50\n",
    "L=n*T\n",
    "\n",
    "N_grid=10000\n",
    "t=np.linspace(0,L,N_grid)\n",
    "h=t[1]-t[0]\n",
    "p=int(round(T/h))\n",
    "\n",
    "d=0.25\n",
    "dd=-0.2\n",
    "\n",
    "dw_samples=np.linspace(0.05, 0.125, 50)"
   ]
  },
  {
   "cell_type": "code",
   "execution_count": 27,
   "metadata": {},
   "outputs": [
    {
     "name": "stderr",
     "output_type": "stream",
     "text": [
      "/usr/lib/python3.6/site-packages/scipy/signal/_peak_finding.py:68: RuntimeWarning: invalid value encountered in less\n",
      "  results &= comparator(main, plus)\n",
      "/usr/lib/python3.6/site-packages/scipy/signal/_peak_finding.py:69: RuntimeWarning: invalid value encountered in less\n",
      "  results &= comparator(main, minus)\n"
     ]
    },
    {
     "name": "stdout",
     "output_type": "stream",
     "text": [
      "-----:  74.85302376747131 4064  ----  0.05  -----  2\n",
      "-----:  70.5251407623291 3790  ----  0.0515306122449  -----  2\n",
      "-----:  68.8908920288086 3581  ----  0.0530612244898  -----  2\n",
      "-----:  70.0130045413971 3384  ----  0.0545918367347  -----  2\n",
      "-----:  68.46812462806702 3252  ----  0.0561224489796  -----  2\n",
      "-----:  68.31354904174805 3050  ----  0.0576530612245  -----  2\n",
      "-----:  62.57958650588989 2946  ----  0.0591836734694  -----  1\n",
      "-----:  68.36086440086365 2744  ----  0.0607142857143  -----  2\n",
      "-----:  79.97845792770386 2640  ----  0.0622448979592  -----  2\n",
      "-----:  72.54945158958435 2537  ----  0.0637755102041  -----  2\n",
      "-----:  80.8644232749939 2434  ----  0.065306122449  -----  2\n",
      "-----:  69.26336884498596 2331  ----  0.0668367346939  -----  1\n",
      "-----:  75.2696361541748 2228  ----  0.0683673469388  -----  2\n",
      "-----:  72.72729516029358 2125  ----  0.0698979591837  -----  1\n",
      "-----:  80.33151268959045 2022  ----  0.0714285714286  -----  2\n",
      "-----:  76.81979632377625 1919  ----  0.0729591836735  -----  1\n",
      "-----:  71.5785493850708 1816  ----  0.0744897959184  -----  2\n",
      "-----:  69.9036636352539 1746  ----  0.0760204081633  -----  2\n",
      "-----:  70.08953952789307 1710  ----  0.0775510204082  -----  2\n",
      "-----:  70.93392848968506 1607  ----  0.0790816326531  -----  1\n",
      "-----:  71.52860760688782 1536  ----  0.080612244898  -----  2\n",
      "-----:  69.72052478790283 1501  ----  0.0821428571429  -----  1\n",
      "-----:  69.49147844314575 1407  ----  0.0836734693878  -----  1\n",
      "-----:  51.02282500267029 1394  ----  0.0852040816327  -----  2\n",
      "-----:  57.19128918647766 1292  ----  0.0867346938776  -----  2\n",
      "-----:  66.33434009552002 1260  ----  0.0882653061224  -----  2\n",
      "-----:  51.36016821861267 1186  ----  0.0897959183673  -----  2\n",
      "-----:  50.50918650627136 1154  ----  0.0913265306122  -----  2\n",
      "-----:  49.06505751609802 1080  ----  0.0928571428571  -----  2\n",
      "-----:  46.90324544906616 1076  ----  0.094387755102  -----  2\n",
      "-----:  47.70586276054382 987  ----  0.0959183673469  -----  2\n",
      "-----:  46.98970437049866 970  ----  0.0974489795918  -----  2\n",
      "-----:  46.89979958534241 901  ----  0.0989795918367  -----  1\n",
      "-----:  42.39578914642334 864  ----  0.100510204082  -----  1\n",
      "-----:  47.510584115982056 825  ----  0.102040816327  -----  1\n",
      "-----:  47.17410588264465 769  ----  0.103571428571  -----  2\n",
      "-----:  47.00353145599365 754  ----  0.105102040816  -----  2\n",
      "-----:  47.06934881210327 688  ----  0.106632653061  -----  2\n",
      "-----:  42.29431867599487 652  ----  0.108163265306  -----  2\n",
      "-----:  47.12492537498474 621  ----  0.109693877551  -----  1\n",
      "-----:  42.68321132659912 566  ----  0.111224489796  -----  2\n",
      "-----:  47.97917437553406 539  ----  0.112755102041  -----  1\n",
      "-----:  53.59535336494446 485  ----  0.114285714286  -----  2\n",
      "-----:  53.827858209609985 449  ----  0.115816326531  -----  2\n",
      "-----:  55.56248664855957 410  ----  0.117346938776  -----  2\n",
      "-----:  50.79254460334778 356  ----  0.11887755102  -----  2\n",
      "-----:  52.245779514312744 318  ----  0.120408163265  -----  2\n",
      "-----:  42.57420468330383 252  ----  0.12193877551  -----  2\n",
      "-----:  44.560890197753906 176  ----  0.123469387755  -----  2\n",
      "-----:  40.214378356933594 157  ----  0.125  -----  0\n"
     ]
    }
   ],
   "source": [
    "dual_border=[]\n",
    "for dw in dw_samples:\n",
    "    left=1\n",
    "    if dw==0.05:\n",
    "        right=N_grid-2*p-1\n",
    "    else:\n",
    "        right=dual_border[-1]\n",
    " \n",
    "    start = time.time()\n",
    "    while (right-left>1):\n",
    "        s=round((left+right)/2)\n",
    "\n",
    "        k0=np.array([d]*N_grid)\n",
    "        k0[2*p:2*p+s]=d+dd\n",
    "        k0_f=interpolate.interp1d(t, k0, bounds_error=False, fill_value=\"extrapolate\")\n",
    "\n",
    "        f=lambda t, x: 2*dw-k0_f(t)*sin(x)\n",
    "\n",
    "        init=np.arcsin(2*dw/k0[0])\n",
    "\n",
    "        theta=[0]*N_grid\n",
    "        for i in range(N_grid):\n",
    "            if i==0:\n",
    "                theta[i]=init\n",
    "            else:\n",
    "                k1=f(t[i-1], theta[i-1])*h\n",
    "                k2=f(t[i-1]+h/2, theta[i-1]+k1/2)*h\n",
    "                k3=f(t[i-1]+h/2, theta[i-1]+k2/2)*h\n",
    "                k4=f(t[i-1]+h, theta[i-1]+k3)*h\n",
    "\n",
    "                theta[i]=theta[i-1]+(k1+2*k2+2*k3+k4)/6\n",
    "\n",
    "        theta=np.array(theta)\n",
    "        x0=np.sin(W*t)\n",
    "        y0=np.sin(W*t+theta)\n",
    "\n",
    "        C_0=[0]*N_grid\n",
    "        for i in range(N_grid):\n",
    "            if (t[i]-T/2>=0) and (t[i]+T/2<=L):\n",
    "                C_0[i]=np.corrcoef(x0[i-int(p/2):i+int(p/2)], y0[i-int(p/2):i+int(p/2)])[0][1]\n",
    "            else:\n",
    "                C_0[i]=nan\n",
    "\n",
    "        phi0=np.arccos(C_0)\n",
    "        k_hat=np.divide(np.array([2*dw]*N_grid), np.sin(phi0))\n",
    "\n",
    "        dmin=argrelextrema(k_hat, np.less)\n",
    "        n_min=dmin[0].shape[0]\n",
    "        extr=[]\n",
    "\n",
    "        eps=0.001\n",
    "\n",
    "        for i in range(n_min):\n",
    "            if ((((i==0) and (k_hat[dmin[0][i]]<k_hat[dmin[0][i+1]]))\n",
    "                or ((i==n_min-1) and (k_hat[dmin[0][i]]<k_hat[dmin[0][i-1]]))\n",
    "                or ((k_hat[dmin[0][i]]<k_hat[dmin[0][i-1]]) and (k_hat[dmin[0][i]]<k_hat[dmin[0][i+1]])))\n",
    "                and (dmin[0][i]>2*p) and (abs(k_hat[dmin[0][i]]-d)>eps)):\n",
    "                    extr.append(dmin[0][i])\n",
    "\n",
    "        dk=np.diff(k_hat)/h\n",
    "        dk=np.nan_to_num(dk)\n",
    "        \n",
    "        if (max(dk)>15) or ((len(extr)>1) and (extr[0]<=2*p+s) and (extr[1]>2*p+s)):\n",
    "            right=s\n",
    "        else:\n",
    "            left=s\n",
    "\n",
    "    stop = time.time()        \n",
    "    print('-----: ', stop-start, left, ' ---- ', dw, ' ----- ', len(extr))\n",
    "    dual_border.append(left)\n",
    "    \n",
    "np.savetxt('PT1409_50_10000_extr2_cor025.out', dual_border, delimiter=',')"
   ]
  },
  {
   "cell_type": "code",
   "execution_count": 5,
   "metadata": {
    "collapsed": true
   },
   "outputs": [],
   "source": [
    "def savitzky_golay(y, window_size, order, deriv=0, rate=1):\n",
    "    from math import factorial\n",
    "    \n",
    "    order_range = range(order+1)\n",
    "    half_window = (window_size -1) // 2\n",
    "    \n",
    "    b = np.mat([[k**i for i in order_range] for k in range(-half_window, half_window+1)])\n",
    "    m = np.linalg.pinv(b).A[deriv] * rate**deriv * factorial(deriv)\n",
    "    \n",
    "    firstvals = y[0] - np.abs( y[1:half_window+1][::-1] - y[0] )\n",
    "    lastvals = y[-1] + np.abs(y[-half_window-1:-1][::-1] - y[-1])\n",
    "    y = np.concatenate((firstvals, y, lastvals))\n",
    "    return np.convolve( m[::-1], y, mode='valid')"
   ]
  },
  {
   "cell_type": "code",
   "execution_count": 8,
   "metadata": {
    "collapsed": true
   },
   "outputs": [],
   "source": [
    "dw_samples=np.linspace(0.05, 1.25, 200)\n",
    "dual_border=np.fromfile(file='PT2407_50_20000_extr2.out', sep='\\n')\n",
    "dual_border_sm=savitzky_golay(dual_border, 51, 3)"
   ]
  },
  {
   "cell_type": "code",
   "execution_count": 29,
   "metadata": {},
   "outputs": [
    {
     "data": {
      "image/png": "[encoded data removed]",
      "text/plain": [
       "<matplotlib.figure.Figure at 0x7fa18a1086d8>"
      ]
     },
     "metadata": {},
     "output_type": "display_data"
    }
   ],
   "source": [
    "plt.figure(figsize=(7,7))\n",
    "plt.plot(dw_samples, dual_border)\n",
    "dual_border2=np.fromfile(file='PT1409_50_10000_extr_break_fast_long_025.out', sep='\\n')\n",
    "plt.plot(dw_samples, dual_border2, 'r')\n",
    "plt.show()"
   ]
  },
  {
   "cell_type": "code",
   "execution_count": 31,
   "metadata": {},
   "outputs": [
    {
     "data": {
      "text/plain": [
       "<matplotlib.figure.Figure at 0x7fa18a207a20>"
      ]
     },
     "metadata": {},
     "output_type": "display_data"
    },
    {
     "data": {
      "image/png": "[encoded data removed]",
      "text/plain": [
       "<matplotlib.figure.Figure at 0x7fa18a3026a0>"
      ]
     },
     "metadata": {},
     "output_type": "display_data"
    }
   ],
   "source": [
    "plt.figure(figsize=(7,7))\n",
    "plt.plot(dw_samples, dual_border2-dual_border)\n",
    "plt.show()"
   ]
  },
  {
   "cell_type": "code",
   "execution_count": null,
   "metadata": {
    "collapsed": true
   },
   "outputs": [],
   "source": []
  }
 ],
 "metadata": {
  "kernelspec": {
   "display_name": "Python 3",
   "language": "python",
   "name": "python3"
  },
  "language_info": {
   "codemirror_mode": {
    "name": "ipython",
    "version": 3
   },
   "file_extension": ".py",
   "mimetype": "text/x-python",
   "name": "python",
   "nbconvert_exporter": "python",
   "pygments_lexer": "ipython3",
   "version": "3.6.2"
  }
 },
 "nbformat": 4,
 "nbformat_minor": 2
}
