{
 "cells": [
  {
   "cell_type": "code",
   "execution_count": 1,
   "metadata": {
    "collapsed": true
   },
   "outputs": [],
   "source": [
    "import matplotlib.pyplot as plt\n",
    "import numpy as np\n",
    "from scipy import interpolate\n",
    "\n",
    "import time\n",
    "\n",
    "from math import *"
   ]
  },
  {
   "cell_type": "code",
   "execution_count": 2,
   "metadata": {
    "collapsed": true
   },
   "outputs": [],
   "source": [
    "N_grid=34698\n",
    "\n",
    "t_start=1913.5\n",
    "t_end=2008.5\n",
    "t=np.linspace(t_start, t_end, N_grid)\n",
    "h=t[1]-t[0]\n",
    "\n",
    "dw=0.1\n",
    "p=365*11+2\n",
    "\n",
    "W=2*np.pi/11\n",
    "T=11\n",
    "\n",
    "st=int(p/2)+1\n",
    "fn=N_grid-st-1"
   ]
  },
  {
   "cell_type": "code",
   "execution_count": 3,
   "metadata": {
    "collapsed": true
   },
   "outputs": [],
   "source": [
    "s=44\n",
    "T_sin=s*365\n",
    "m=1.5\n",
    "eps=np.pi/2-0.1\n",
    "\n",
    "weight=0.5\n",
    "\n",
    "k0_s=weight*(np.sin((2*np.pi)/s*t+eps)+m)"
   ]
  },
  {
   "cell_type": "code",
   "execution_count": 4,
   "metadata": {
    "collapsed": true
   },
   "outputs": [],
   "source": [
    "alpha=0.999\n",
    "wait_time=int(1/(1-alpha))\n",
    "sigma=0.001\n",
    "t_t=np.linspace(t_start-wait_time/365, t_end, N_grid+wait_time)\n",
    "k0_clear=weight*(np.sin((2*np.pi)/s*t_t+eps)+m)"
   ]
  },
  {
   "cell_type": "code",
   "execution_count": 5,
   "metadata": {
    "collapsed": true
   },
   "outputs": [],
   "source": [
    "samples=150\n",
    "res=np.zeros((fn-st+1, samples))"
   ]
  },
  {
   "cell_type": "code",
   "execution_count": null,
   "metadata": {
    "scrolled": true
   },
   "outputs": [
    {
     "name": "stdout",
     "output_type": "stream",
     "text": [
      "0  :::  18.841671466827393\n",
      "1  :::  18.101074695587158\n",
      "2  :::  18.522625207901\n",
      "3  :::  18.430140018463135\n",
      "4  :::  18.484382152557373\n",
      "5  :::  18.332476139068604\n",
      "6  :::  19.095770835876465\n",
      "7  :::  18.96045994758606\n",
      "8  :::  18.27331805229187\n",
      "9  :::  19.37437415122986\n",
      "10  :::  20.90093731880188\n",
      "11  :::  18.21435832977295\n",
      "12  :::  18.648332357406616\n",
      "13  :::  18.75015926361084\n",
      "14  :::  21.46064043045044\n",
      "15  :::  20.59489345550537\n",
      "16  :::  18.43479561805725\n",
      "17  :::  19.530105590820312\n",
      "18  :::  18.44903302192688\n",
      "19  :::  18.075664281845093\n",
      "20  :::  19.298500776290894\n",
      "21  :::  18.948912620544434\n",
      "22  :::  20.800682544708252\n",
      "23  :::  18.670053720474243\n",
      "24  :::  18.03748917579651\n",
      "25  :::  17.836941719055176\n",
      "26  :::  18.135993719100952\n",
      "27  :::  18.402300119400024\n",
      "28  :::  17.97444200515747\n",
      "29  :::  18.187275886535645\n",
      "30  :::  18.387791395187378\n",
      "31  :::  18.857561349868774\n",
      "32  :::  18.458154678344727\n",
      "33  :::  18.846038579940796\n",
      "34  :::  20.903587579727173\n",
      "35  :::  18.02524161338806\n",
      "36  :::  19.412671089172363\n",
      "37  :::  19.26758360862732\n",
      "38  :::  18.159377574920654\n",
      "39  :::  18.228286504745483\n",
      "40  :::  17.1081805229187\n",
      "41  :::  17.058801412582397\n",
      "42  :::  17.263615608215332\n",
      "43  :::  17.179007291793823\n",
      "44  :::  17.566379070281982\n",
      "45  :::  17.146076440811157\n",
      "46  :::  17.43391251564026\n",
      "47  :::  17.17971444129944\n",
      "48  :::  17.71950364112854\n",
      "49  :::  17.332429885864258\n",
      "50  :::  18.034512519836426\n",
      "51  :::  17.312641382217407\n",
      "52  :::  17.389064073562622\n",
      "53  :::  17.228465795516968\n",
      "54  :::  17.014639854431152\n",
      "55  :::  16.78292989730835\n",
      "56  :::  18.02837324142456\n",
      "57  :::  18.511657238006592\n",
      "58  :::  17.43846368789673\n",
      "59  :::  17.182173490524292\n",
      "60  :::  17.67988610267639\n",
      "61  :::  18.03821563720703\n",
      "62  :::  17.65761971473694\n",
      "63  :::  18.707508325576782\n",
      "64  :::  17.47989821434021\n",
      "65  :::  17.437175273895264\n",
      "66  :::  17.47358536720276\n",
      "67  :::  18.081633806228638\n",
      "68  :::  17.26978588104248\n",
      "69  :::  17.351974725723267\n",
      "70  :::  18.502803802490234\n",
      "71  :::  17.302192211151123\n",
      "72  :::  17.466472148895264\n",
      "73  :::  17.467347145080566\n",
      "74  :::  17.884326457977295\n",
      "75  :::  17.938427925109863\n",
      "76  :::  17.48168110847473\n",
      "77  :::  17.481404781341553\n",
      "78  :::  18.101757764816284\n",
      "79  :::  19.13064932823181\n",
      "80  :::  19.045461654663086\n",
      "81  :::  18.25384497642517\n",
      "82  :::  18.266829013824463\n",
      "83  :::  21.363516330718994\n",
      "84  :::  20.22654891014099\n",
      "85  :::  18.958417654037476\n",
      "86  :::  19.394858360290527\n",
      "87  :::  19.37386918067932\n",
      "88  :::  18.161741256713867\n",
      "89  :::  19.25498652458191\n",
      "90  :::  19.02551817893982\n",
      "91  :::  18.354048490524292\n",
      "92  :::  17.98663353919983\n",
      "93  :::  18.451800107955933\n",
      "94  :::  17.592764616012573\n",
      "95  :::  17.450303077697754\n",
      "96  :::  18.03079342842102\n",
      "97  :::  18.00050926208496\n",
      "98  :::  18.64732551574707\n",
      "99  :::  21.359341144561768\n",
      "100  :::  19.64435124397278\n",
      "101  :::  18.441359996795654\n",
      "102  :::  18.11984348297119\n",
      "103  :::  18.389390230178833\n",
      "104  :::  17.832972764968872\n",
      "105  :::  18.92163395881653\n",
      "106  :::  18.690202713012695\n",
      "107  :::  18.321926832199097\n",
      "108  :::  18.547139644622803\n",
      "109  :::  19.63137674331665\n",
      "110  :::  18.210036039352417\n",
      "111  :::  18.871236324310303\n",
      "112  :::  18.697954654693604\n"
     ]
    }
   ],
   "source": [
    "for jj in range(samples): \n",
    "    start=time.time()\n",
    "    k0_t=np.zeros(N_grid+wait_time, np.dtype(float))\n",
    "    np.random.seed\n",
    "    xi=sigma*np.random.randn(N_grid+wait_time)\n",
    "\n",
    "    for i in range(N_grid+wait_time):\n",
    "        if i==0:\n",
    "            k0_t[i]=0\n",
    "        else:\n",
    "            k0_t[i]=alpha*k0_t[i-1]+xi[i-1]\n",
    "\n",
    "    k0_t=k0_t+k0_clear\n",
    "\n",
    "    k0=np.zeros(N_grid, np.dtype(float))\n",
    "    k0=k0_t[int(1/(1-alpha)):]\n",
    "    if k0[0]<2*dw:\n",
    "        k0[0]=k0_clear[int(1/(1-alpha))]\n",
    "        print(\"ЭТА ЗАРАЗА СЛОМАЛАСЬ ОПЯТЬ\")\n",
    "\n",
    "    k0_f=interpolate.interp1d(t, k0, bounds_error=False, fill_value=\"extrapolate\")\n",
    "    f=lambda t, x: 2*dw-k0_f(t)*sin(x)\n",
    "    init=np.arcsin(2*dw/k0[0])\n",
    "    theta=[0]*N_grid\n",
    "    for i in range(N_grid):\n",
    "        if i==0:\n",
    "            theta[i]=init\n",
    "        else:\n",
    "            k1=f(t[i-1], theta[i-1])*h\n",
    "            k2=f(t[i-1]+h/2, theta[i-1]+k1/2)*h\n",
    "            k3=f(t[i-1]+h/2, theta[i-1]+k2/2)*h\n",
    "            k4=f(t[i-1]+h, theta[i-1]+k3)*h\n",
    "\n",
    "            theta[i]=theta[i-1]+(k1+2*k2+2*k3+k4)/6\n",
    "\n",
    "    theta=np.array(theta)\n",
    "    x0=np.sin(W*t)\n",
    "    y0=np.sin(W*t+theta)\n",
    "    C_0=[0]*N_grid\n",
    "    for i in range(N_grid):\n",
    "        if (t[i]-T/2>=t_start) and (t[i]+T/2<=t_end):\n",
    "            C_0[i]=np.corrcoef(x0[i-int(p/2):i+int(p/2)], y0[i-int(p/2):i+int(p/2)])[0][1]\n",
    "        else:\n",
    "            C_0[i]=nan\n",
    "    phi0=np.arccos(C_0)\n",
    "    k_hat=np.divide(np.array([2*dw]*N_grid), np.sin(phi0))\n",
    "    res[:,jj]=k_hat[st:fn+1]\n",
    "    finish=time.time()\n",
    "    print(jj, ' ::: ', finish-start)\n",
    "\n",
    "np.savetxt('PT2411_k_hat_sine+ar_single_0.001.out', res, delimiter=',')"
   ]
  },
  {
   "cell_type": "code",
   "execution_count": null,
   "metadata": {
    "collapsed": true
   },
   "outputs": [],
   "source": [
    "plt.rc('text', usetex=True)\n",
    "plt.rc('font', family='serif')\n",
    "plt.figure(figsize=(15, 7))\n",
    "plt.plot(t, k0, 'b')\n",
    "for i in range(samples):\n",
    "    plt.plot(t[st:fn+1], res[:, i], alpha=0.2)\n",
    "plt.plot(t[st:fn+1], np.mean(res, axis=1), 'r')\n",
    "#plt.plot(t, k_hat, 'r')\n",
    "plt.legend([r'$k_0(t)$', r'$\\hat{k}(t)$'], fontsize=14)\n",
    "plt.xlabel(r't', fontsize=20)\n",
    "plt.title(r'\\textbf{Comparison between zero approximation} $k_0(t)$ \\textbf{ and reconstructed } $\\hat{k}(t)$', fontsize=18)\n",
    "plt.show()"
   ]
  },
  {
   "cell_type": "code",
   "execution_count": null,
   "metadata": {
    "collapsed": true
   },
   "outputs": [],
   "source": [
    "k_hat_l=np.zeros(fn-st+1)\n",
    "k_hat_u=np.zeros(fn-st+1)\n",
    "\n",
    "for i in range(fn+1-st):\n",
    "    k_hat_l[i]=sorted(res[i,:])[4]\n",
    "    k_hat_u[i]=sorted(res[i,:])[145]"
   ]
  },
  {
   "cell_type": "code",
   "execution_count": null,
   "metadata": {
    "collapsed": true
   },
   "outputs": [],
   "source": [
    "plt.rc('text', usetex=True)\n",
    "plt.rc('font', family='serif')\n",
    "plt.figure(figsize=(15, 7))\n",
    "plt.plot(t, k0, 'b')\n",
    "plt.plot(t[st:fn+1], np.mean(res, axis=1), 'r')\n",
    "plt.fill_between(t[st:fn+1], k_hat_l, k_hat_u, color=\"yellow\", alpha=0.5)\n",
    "#plt.plot(t, k_hat, 'r')\n",
    "plt.legend([r'$k_0(t)$', r'$\\hat{k}(t)$'], fontsize=14)\n",
    "plt.xlabel(r't', fontsize=20)\n",
    "plt.title(r'\\textbf{Comparison between zero approximation} $k_0(t)$ \\textbf{ and reconstructed } $\\hat{k}(t)$', fontsize=18)\n",
    "plt.grid()\n",
    "plt.show()\n"
   ]
  },
  {
   "cell_type": "code",
   "execution_count": null,
   "metadata": {
    "collapsed": true
   },
   "outputs": [],
   "source": [
    "plt.rc('text', usetex=True)\n",
    "plt.rc('font', family='serif')\n",
    "plt.figure(figsize=(15, 7))\n",
    "plt.plot(t, k0, 'b')\n",
    "plt.plot(t[st:fn+1], np.mean(res, axis=1), 'r')\n",
    "plt.fill_between(t[st:fn+1], k_hat_l, k_hat_u, color=\"yellow\", alpha=0.5)\n",
    "plt.plot(t[st:fn+1], (k_hat_u-k_hat_l), 'm.-', linewidth=2)\n",
    "plt.plot(t[st:fn+1], np.divide(k_hat_u-k_hat_l, np.mean(res, axis=1)-2*dw), 'g.-', linewidth=2)\n",
    "#plt.plot(t, k_hat, 'r')\n",
    "plt.legend([r'$k_0(t)$', r'$\\hat{k}(t)$'], fontsize=14)\n",
    "plt.xlabel(r't', fontsize=20)\n",
    "plt.title(r'\\textbf{Comparison between zero approximation} $k_0(t)$ \\textbf{ and reconstructed } $\\hat{k}(t)$', fontsize=18)\n",
    "plt.grid()\n",
    "plt.show()"
   ]
  }
 ],
 "metadata": {
  "kernelspec": {
   "display_name": "Python 3",
   "language": "python",
   "name": "python3"
  },
  "language_info": {
   "codemirror_mode": {
    "name": "ipython",
    "version": 3
   },
   "file_extension": ".py",
   "mimetype": "text/x-python",
   "name": "python",
   "nbconvert_exporter": "python",
   "pygments_lexer": "ipython3",
   "version": "3.6.2"
  }
 },
 "nbformat": 4,
 "nbformat_minor": 2
}
