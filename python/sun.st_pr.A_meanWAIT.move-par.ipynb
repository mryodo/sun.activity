{
 "cells": [
  {
   "cell_type": "code",
   "execution_count": 2,
   "metadata": {
    "collapsed": true
   },
   "outputs": [],
   "source": [
    "import matplotlib.pyplot as plt\n",
    "import numpy as np\n",
    "from scipy import interpolate\n",
    "\n",
    "import time\n",
    "\n",
    "from math import *"
   ]
  },
  {
   "cell_type": "code",
   "execution_count": 12,
   "metadata": {
    "collapsed": true
   },
   "outputs": [],
   "source": [
    "weight=10\n",
    "\n",
    "W=2*np.pi\n",
    "dw=0.1*weight\n",
    "T=(2*np.pi)/W\n",
    "\n",
    "p=200\n",
    "n_wait=5"
   ]
  },
  {
   "cell_type": "code",
   "execution_count": 13,
   "metadata": {
    "collapsed": true
   },
   "outputs": [],
   "source": [
    "sample=100\n",
    "A_cuts=20\n",
    "move_cuts=10"
   ]
  },
  {
   "cell_type": "code",
   "execution_count": 14,
   "metadata": {
    "collapsed": true
   },
   "outputs": [],
   "source": [
    "alpha_s=np.linspace(0.995, 0.9999, A_cuts)\n",
    "move_s=np.linspace(10, 300, move_cuts)"
   ]
  },
  {
   "cell_type": "code",
   "execution_count": 15,
   "metadata": {
    "scrolled": true
   },
   "outputs": [],
   "source": [
    "def move_checker(move):\n",
    "    weight=10\n",
    "\n",
    "    W=2*np.pi\n",
    "    dw=0.1*weight\n",
    "    T=(2*np.pi)/W\n",
    "\n",
    "    p=200\n",
    "    n_wait=5\n",
    "    sample=75\n",
    "    A_cuts=20\n",
    "    move_cuts=20\n",
    "    alpha_s=np.linspace(0.995, 0.9999, A_cuts)\n",
    "    res=np.zeros((A_cuts, sample))\n",
    "    res2=np.zeros((A_cuts, sample))\n",
    "    res3=np.zeros((A_cuts, sample))\n",
    "\n",
    "    for jj in range(sample):\n",
    "        q_s=[]\n",
    "        q2_s=[]\n",
    "        qt_s=[]\n",
    "\n",
    "        for ii in range(A_cuts):\n",
    "            start=time.time()\n",
    "            alpha=alpha_s[ii]\n",
    "            wait_time=int(1/(1-alpha))\n",
    "            N_grid=wait_time*n_wait\n",
    "            n=N_grid/p\n",
    "            L=T*n\n",
    "\n",
    "            t=np.linspace(0,L,N_grid)\n",
    "            h=t[1]-t[0]\n",
    "\n",
    "            st=int(p/2)\n",
    "            fn=N_grid-1-st\n",
    "\n",
    "            M=2*dw\n",
    "\n",
    "            move=int(move)\n",
    "\n",
    "            t_t=np.linspace(0, L+wait_time/p, N_grid+wait_time)\n",
    "            k0_t=np.zeros(N_grid+wait_time, np.dtype(float))\n",
    "\n",
    "\n",
    "            sigma=.01\n",
    "            mu=(2*dw+sigma*move)*(1-alpha)\n",
    "            np.random.seed\n",
    "            xi=sigma*np.random.randn(N_grid+wait_time-1)+mu\n",
    "\n",
    "\n",
    "            for i in range(N_grid+wait_time):\n",
    "                if i==0:\n",
    "                    k0_t[i]=2*dw\n",
    "                else:\n",
    "                    k0_t[i]=alpha*k0_t[i-1]+xi[i-1]\n",
    "            k0=np.zeros(N_grid, np.dtype(float))\n",
    "            k0=k0_t[int(1/(1-alpha)):]\n",
    "            if k0[0]<2*dw:\n",
    "                k0[0]=2*dw+sigma*move\n",
    "                print(\"ЭТА ЗАРАЗА СЛОМАЛАСЬ ОПЯТЬ\")\n",
    "\n",
    "            k0_f=interpolate.interp1d(t, k0, bounds_error=False, fill_value=\"extrapolate\")\n",
    "            f=lambda t, x: 2*dw-k0_f(t)*sin(x)\n",
    "\n",
    "            init=np.arcsin(2*dw/k0[0])\n",
    "\n",
    "            theta=[0]*N_grid\n",
    "            for i in range(N_grid):\n",
    "                if i==0:\n",
    "                    theta[i]=init\n",
    "                else:\n",
    "                    k1=f(t[i-1], theta[i-1])*h\n",
    "                    k2=f(t[i-1]+h/2, theta[i-1]+k1/2)*h\n",
    "                    k3=f(t[i-1]+h/2, theta[i-1]+k2/2)*h\n",
    "                    k4=f(t[i-1]+h, theta[i-1]+k3)*h\n",
    "\n",
    "                    theta[i]=theta[i-1]+(k1+2*k2+2*k3+k4)/6\n",
    "\n",
    "            theta=np.array(theta)\n",
    "            x0=np.sin(W*t)\n",
    "            y0=np.sin(W*t+theta)\n",
    "\n",
    "            C_0=[0]*N_grid\n",
    "\n",
    "            for i in range(N_grid):\n",
    "                if (t[i]-T/2>=0) and (t[i]+T/2<=L):\n",
    "                    C_0[i]=np.corrcoef(x0[i-int(p/2):i+int(p/2)], y0[i-int(p/2):i+int(p/2)])[0][1]\n",
    "                else:\n",
    "                    C_0[i]=nan\n",
    "\n",
    "            phi0=np.arccos(C_0)\n",
    "\n",
    "            k_hat=np.divide(np.array([2*dw]*N_grid), np.sin(phi0))\n",
    "\n",
    "            q_t_ar=[]\n",
    "\n",
    "            for i in range(fn-p-st):\n",
    "                mk=np.array([np.mean(k0[st+i:st+i+p-1])]*p)\n",
    "                sk=(sum(np.multiply(k0[st+i:st+i+p-1], k0[st+i:st+i+p-1])*h))\n",
    "                q_t_ar.append((sum(np.multiply(k_hat[st+i:st+i+p-1]-k0[st+i:st+i+p-1], k_hat[st+i:st+i+p-1]-k0[st+i:st+i+p-1])*h))/sk)\n",
    "\n",
    "            qt=max(q_t_ar)\n",
    "            if qt>.8:\n",
    "                qt_s.append(1)\n",
    "            else:\n",
    "                qt_s.append(0)\n",
    "            mk=np.array([np.mean(k0[st:fn])]*(fn-st))\n",
    "            sk=(sum(np.multiply(k0[st:fn]-mk, k0[st:fn]-mk)*h))\n",
    "            q=(sum(np.multiply(k_hat[st:fn]-k0[st:fn], k_hat[st:fn]-k0[st:fn])*h))/sk\n",
    "            sk2=(sum(np.multiply(k0[st:fn], k0[st:fn])*h))\n",
    "            q2=(sum(np.multiply(k_hat[st:fn]-k0[st:fn], k_hat[st:fn]-k0[st:fn])*h))/sk2\n",
    "            q_s.append(q)\n",
    "            q2_s.append(q2)\n",
    "            stop=time.time()\n",
    "            print(move, '/', jj, '/', ii, alpha, ' ----- ', stop-start, '-------------', q, q2, qt_s[-1])\n",
    "        res[:,jj]=q_s\n",
    "        res2[:,jj]=q2_s\n",
    "        res3[:,jj]=qt_s\n",
    "\n",
    "    np.savetxt('PT19('+str(move)+')10_20_8000_q_A_cor.out', res, delimiter=',')\n",
    "    np.savetxt('PT19('+str(move)+')10_20_8000_q2_A_cor.out', res2, delimiter=',')\n",
    "    np.savetxt('PT19('+str(move)+')10_20_8000_q3_A_cor.out', res3, delimiter=',')\n",
    "    return 1"
   ]
  },
  {
   "cell_type": "code",
   "execution_count": null,
   "metadata": {
    "collapsed": true
   },
   "outputs": [],
   "source": [
    "from joblib import Parallel, delayed\n",
    "import multiprocessing\n",
    "    \n",
    "num_cores = multiprocessing.cpu_count()\n",
    "    \n",
    "results = Parallel(n_jobs=num_cores)(delayed(move_checker)(move) for move in move_s)"
   ]
  },
  {
   "cell_type": "code",
   "execution_count": null,
   "metadata": {
    "collapsed": true
   },
   "outputs": [],
   "source": []
  }
 ],
 "metadata": {
  "kernelspec": {
   "display_name": "Python 3",
   "language": "python",
   "name": "python3"
  },
  "language_info": {
   "codemirror_mode": {
    "name": "ipython",
    "version": 3
   },
   "file_extension": ".py",
   "mimetype": "text/x-python",
   "name": "python",
   "nbconvert_exporter": "python",
   "pygments_lexer": "ipython3",
   "version": "3.6.2"
  }
 },
 "nbformat": 4,
 "nbformat_minor": 2
}
