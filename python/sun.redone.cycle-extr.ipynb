{
 "cells": [
  {
   "cell_type": "code",
   "execution_count": 26,
   "metadata": {
    "collapsed": true
   },
   "outputs": [],
   "source": [
    "import matplotlib.pyplot as plt\n",
    "import numpy as np\n",
    "from scipy import interpolate\n",
    "from scipy.signal import argrelextrema\n",
    "import time\n",
    "\n",
    "from math import *"
   ]
  },
  {
   "cell_type": "code",
   "execution_count": 27,
   "metadata": {
    "collapsed": true
   },
   "outputs": [],
   "source": [
    "W=2*np.pi\n",
    "T=(2*np.pi)/W\n",
    "n=50\n",
    "L=n*T\n",
    "\n",
    "N_grid=20000\n",
    "t=np.linspace(0,L,N_grid)\n",
    "h=t[1]-t[0]\n",
    "p=int(round(T/h))\n",
    "\n",
    "d=2.5\n",
    "dd=-2.45\n",
    "\n",
    "dw_samples=np.linspace(0.05, 1.25, 500)\n",
    "dual_border=[]"
   ]
  },
  {
   "cell_type": "code",
   "execution_count": null,
   "metadata": {},
   "outputs": [
    {
     "name": "stderr",
     "output_type": "stream",
     "text": [
      "/usr/lib/python3.6/site-packages/scipy/signal/_peak_finding.py:68: RuntimeWarning: invalid value encountered in less\n",
      "  results &= comparator(main, plus)\n",
      "/usr/lib/python3.6/site-packages/scipy/signal/_peak_finding.py:69: RuntimeWarning: invalid value encountered in less\n",
      "  results &= comparator(main, minus)\n"
     ]
    },
    {
     "name": "stdout",
     "output_type": "stream",
     "text": [
      "-----:  163.79756665229797 12192\n",
      "-----:  52.90000867843628 12172\n",
      "-----:  52.220306634902954 12152\n",
      "-----:  50.084389209747314 12132\n",
      "-----:  53.62356185913086 12112\n",
      "-----:  52.34867215156555 12092\n"
     ]
    }
   ],
   "source": [
    "for dw in dw_samples:\n",
    "    if (dw==0.05):\n",
    "        left=1\n",
    "        right=N_grid-2*p-1\n",
    "    else:\n",
    "        right=min(N_grid-2*p-1, left+20)\n",
    "        left=max(1, left-20)\n",
    "\n",
    "    start = time.time()\n",
    "    while (right-left>1):\n",
    "        s=round((left+right)/2)\n",
    "\n",
    "        k0=np.array([d]*N_grid)\n",
    "        k0[2*p:2*p+s]=d+dd\n",
    "        k0_f=interpolate.interp1d(t, k0, bounds_error=False, fill_value=\"extrapolate\")\n",
    "\n",
    "        f=lambda t, x: 2*dw-k0_f(t)*sin(x)\n",
    "\n",
    "        init=np.arcsin(2*dw/k0[0])\n",
    "\n",
    "        theta=[0]*N_grid\n",
    "        for i in range(N_grid):\n",
    "            if i==0:\n",
    "                theta[i]=init\n",
    "            else:\n",
    "                k1=f(t[i-1], theta[i-1])*h\n",
    "                k2=f(t[i-1]+h/2, theta[i-1]+k1/2)*h\n",
    "                k3=f(t[i-1]+h/2, theta[i-1]+k2/2)*h\n",
    "                k4=f(t[i-1]+h, theta[i-1]+k3)*h\n",
    "\n",
    "                theta[i]=theta[i-1]+(k1+2*k2+2*k3+k4)/6\n",
    "\n",
    "        theta=np.array(theta)\n",
    "        x0=np.sin(W*t)\n",
    "        y0=np.sin(W*t+theta)\n",
    "\n",
    "        C_0=[0]*N_grid\n",
    "        for i in range(N_grid):\n",
    "            if (t[i]-T/2>=0) and (t[i]+T/2<=L):\n",
    "                C_0[i]=np.corrcoef(x0[i-int(p/2):i+int(p/2)], y0[i-int(p/2):i+int(p/2)])[0][1]\n",
    "            else:\n",
    "                C_0[i]=nan\n",
    "\n",
    "        phi0=np.arccos(C_0)\n",
    "        k_hat=np.divide(np.array([2*dw]*N_grid), np.sin(phi0))\n",
    "\n",
    "        dmin=argrelextrema(k_hat, np.less)\n",
    "        n_min=dmin[0].shape[0]\n",
    "        extr=[]\n",
    "\n",
    "        eps=0.001\n",
    "\n",
    "        for i in range(n_min):\n",
    "            if ((((i==0) and (k_hat[dmin[0][i]]<k_hat[dmin[0][i+1]]))\n",
    "                or ((i==n_min-1) and (k_hat[dmin[0][i]]<k_hat[dmin[0][i-1]]))\n",
    "                or ((k_hat[dmin[0][i]]<k_hat[dmin[0][i-1]]) and (k_hat[dmin[0][i]]<k_hat[dmin[0][i+1]])))\n",
    "                and (dmin[0][i]>2*p) and (abs(k_hat[dmin[0][i]]-d)>eps)):\n",
    "                    extr.append(dmin[0][i])\n",
    "\n",
    "        dk=np.diff(k_hat)/h\n",
    "        dk=np.nan_to_num(dk)\n",
    "        #print(left, right)\n",
    "        if (max(dk)>25) or ((len(extr)>1) and (extr[0]<=2*p+s) and (extr[1]>2*p+s)):\n",
    "            right=s\n",
    "        else:\n",
    "            left=s\n",
    "\n",
    "    stop = time.time()        \n",
    "    print('-----: ', stop-start, left)\n",
    "    dual_border.append(left)\n",
    "    \n",
    "np.savetxt('PT2407_50_20000_extr2.out', dual_border, delimiter=',')"
   ]
  },
  {
   "cell_type": "code",
   "execution_count": null,
   "metadata": {
    "collapsed": true
   },
   "outputs": [],
   "source": []
  }
 ],
 "metadata": {
  "kernelspec": {
   "display_name": "Python 3",
   "language": "python",
   "name": "python3"
  },
  "language_info": {
   "codemirror_mode": {
    "name": "ipython",
    "version": 3
   },
   "file_extension": ".py",
   "mimetype": "text/x-python",
   "name": "python",
   "nbconvert_exporter": "python",
   "pygments_lexer": "ipython3",
   "version": "3.6.1"
  }
 },
 "nbformat": 4,
 "nbformat_minor": 2
}
