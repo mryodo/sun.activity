{
 "cells": [
  {
   "cell_type": "code",
   "execution_count": 1,
   "metadata": {
    "collapsed": true
   },
   "outputs": [],
   "source": [
    "import matplotlib.pyplot as plt\n",
    "import numpy as np\n",
    "from scipy import interpolate\n",
    "\n",
    "import time\n",
    "\n",
    "from math import *"
   ]
  },
  {
   "cell_type": "code",
   "execution_count": 2,
   "metadata": {
    "collapsed": true
   },
   "outputs": [],
   "source": [
    "weight=10\n",
    "\n",
    "W=2*np.pi\n",
    "dw=0.2\n",
    "T=(2*np.pi)/W"
   ]
  },
  {
   "cell_type": "code",
   "execution_count": null,
   "metadata": {
    "scrolled": false
   },
   "outputs": [
    {
     "name": "stdout",
     "output_type": "stream",
     "text": [
      "0\n"
     ]
    }
   ],
   "source": [
    "p=200\n",
    "\n",
    "#alpha=0.99995\n",
    "alpha=0.99999966531786377\n",
    "wait_time=int(1/(1-alpha))\n",
    "n_wait=2\n",
    "N_grid=wait_time*int(n_wait)\n",
    "n=N_grid/p\n",
    "L=T*n\n",
    "\n",
    "t=np.linspace(0,L,N_grid)\n",
    "h=t[1]-t[0]\n",
    "\n",
    "st=int(p/2)\n",
    "fn=N_grid-1-st\n",
    "\n",
    "M=2*dw\n",
    "\n",
    "move=2341\n",
    "\n",
    "for ii in range(10):\n",
    "    t_t=np.linspace(0, L+wait_time/p, N_grid+wait_time)\n",
    "    k0_t=np.zeros(N_grid+wait_time, np.dtype(float))\n",
    "\n",
    "\n",
    "    sigma=0.00013752110815650826\n",
    "    mu=(2*dw+sigma*move)*(1-alpha)\n",
    "    np.random.seed\n",
    "    xi=sigma*np.random.randn(N_grid+wait_time-1)+mu\n",
    "\n",
    "    for i in range(N_grid+wait_time):\n",
    "        if i==0:\n",
    "            k0_t[i]=2*dw\n",
    "        else:\n",
    "            k0_t[i]=alpha*k0_t[i-1]+xi[i-1]\n",
    "\n",
    "    #plt.subplot(10, divmod(9, 5)[1]+1, divmod(9, 5)[0]+1)\n",
    "    plt.rc('text', usetex=True)\n",
    "    plt.rc('font', family='serif')\n",
    "    plt.figure(figsize=(15, 7))\n",
    "    plt.ylim((min(k0_t)-0.05, max(k0_t)))\n",
    "    plt.plot(t_t, k0_t, 'b')\n",
    "    plt.plot(t_t, [2*dw]*(N_grid+wait_time), 'r')\n",
    "    plt.plot(t_t, [(2*dw+sigma*move)]*(N_grid+wait_time), 'k--')\n",
    "    plt.plot((wait_time/p, wait_time/p), (min(k0_t)-0.05, max(k0_t)), 'g-')\n",
    "    for ll in range(n_wait-1):\n",
    "        plt.plot((wait_time*(ll+2)/p, wait_time*(ll+2)/p), (min(k0_t)-0.05, max(k0_t)), 'g--')\n",
    "    plt.xlabel(r't', fontsize=20)\n",
    "    plt.ylabel(r'k_0', fontsize=20)\n",
    "    plt.title(r'\\textbf{Starting approximation of the parameter function}', fontsize=18)\n",
    "    plt.legend(['k_0(t)', '2 \\Delta w'])\n",
    "    print(ii)\n",
    "    plt.show()\n"
   ]
  },
  {
   "cell_type": "code",
   "execution_count": null,
   "metadata": {
    "collapsed": true
   },
   "outputs": [],
   "source": []
  }
 ],
 "metadata": {
  "kernelspec": {
   "display_name": "Python 3",
   "language": "python",
   "name": "python3"
  },
  "language_info": {
   "codemirror_mode": {
    "name": "ipython",
    "version": 3
   },
   "file_extension": ".py",
   "mimetype": "text/x-python",
   "name": "python",
   "nbconvert_exporter": "python",
   "pygments_lexer": "ipython3",
   "version": "3.6.2"
  }
 },
 "nbformat": 4,
 "nbformat_minor": 2
}
