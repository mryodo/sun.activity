{
 "cells": [
  {
   "cell_type": "code",
   "execution_count": 1,
   "metadata": {
    "collapsed": true
   },
   "outputs": [],
   "source": [
    "import matplotlib.pyplot as plt\n",
    "import numpy as np\n",
    "from scipy import interpolate\n",
    "import time\n",
    "\n",
    "from math import *"
   ]
  },
  {
   "cell_type": "code",
   "execution_count": 14,
   "metadata": {
    "collapsed": true
   },
   "outputs": [],
   "source": [
    "weight=10\n",
    "\n",
    "W=2*np.pi\n",
    "dw=0.1*weight\n",
    "T=(2*np.pi)/W\n",
    "n=50\n",
    "L=n*T\n",
    "\n",
    "N_grid=20000\n",
    "t=np.linspace(0,L,N_grid)\n",
    "h=t[1]-t[0]"
   ]
  },
  {
   "cell_type": "code",
   "execution_count": 47,
   "metadata": {},
   "outputs": [
    {
     "data": {
      "image/png": "[encoded data removed]",
      "text/plain": [
       "<matplotlib.figure.Figure at 0x7f2f1f2651d0>"
      ]
     },
     "metadata": {},
     "output_type": "display_data"
    }
   ],
   "source": [
    "M=1.5\n",
    "\n",
    "k0=np.zeros(N_grid, np.dtype(float))\n",
    "\n",
    "# здесь можно подумать над тем, как мы его инициализируем\n",
    "alpha=.99999\n",
    "sigma=.1\n",
    "mu=0.1\n",
    "xi=sigma*np.random.randn(N_grid)+mu\n",
    "\n",
    "\n",
    "for i in range(N_grid):\n",
    "    if i==0:\n",
    "        k0[i]=M*2*dw\n",
    "    else:\n",
    "        #k0[i]=alpha*k0[i-1]+np.sqrt(h)*xi[i-1]\n",
    "        dif=np.random.normal(0, np.sqrt(h)*sigma)\n",
    "        k0[i]=alpha*k0[i-1]+dif\n",
    "        if k0[i]<0:\n",
    "            k0[i]=2*k0[i-1]-k0[i]\n",
    "        #print(k0[i], dif)\n",
    "\n",
    "plt.rc('text', usetex=True)\n",
    "plt.rc('font', family='serif')\n",
    "plt.figure(figsize=(7, 5))\n",
    "plt.plot(t, k0, 'b')\n",
    "plt.plot(t, [2*dw]*N_grid, 'r')\n",
    "plt.xlabel(r't', fontsize=20)\n",
    "plt.ylabel(r'k_0', fontsize=20)\n",
    "plt.title(r'\\textbf{Starting approximation of the parameter function}', fontsize=18)\n",
    "plt.legend(['k_0(t)', '2 \\Delta w'])\n",
    "#plt.savefig('k0_try.eps', format='eps', dpi=1000)\n",
    "plt.show()"
   ]
  },
  {
   "cell_type": "code",
   "execution_count": 37,
   "metadata": {},
   "outputs": [
    {
     "name": "stderr",
     "output_type": "stream",
     "text": [
      "Widget Javascript not detected.  It may not be installed or enabled properly.\n"
     ]
    },
    {
     "data": {
      "application/vnd.jupyter.widget-view+json": {
       "model_id": "52bc45c0ed8342ec961b1312e22808f2"
      }
     },
     "metadata": {},
     "output_type": "display_data"
    }
   ],
   "source": [
    "import ipywidgets as widgets\n",
    "widgets.IntProgress(\n",
    "    value=7,\n",
    "    min=0,\n",
    "    max=10,\n",
    "    step=1,\n",
    "    description='Loading:',\n",
    "    bar_style='', # 'success', 'info', 'warning', 'danger' or ''\n",
    "    orientation='horizontal'\n",
    ")"
   ]
  },
  {
   "cell_type": "code",
   "execution_count": null,
   "metadata": {
    "collapsed": true
   },
   "outputs": [],
   "source": []
  },
  {
   "cell_type": "code",
   "execution_count": null,
   "metadata": {
    "collapsed": true
   },
   "outputs": [],
   "source": []
  },
  {
   "cell_type": "code",
   "execution_count": null,
   "metadata": {
    "collapsed": true
   },
   "outputs": [],
   "source": [
    "s"
   ]
  }
 ],
 "metadata": {
  "kernelspec": {
   "display_name": "Python 3",
   "language": "python",
   "name": "python3"
  },
  "language_info": {
   "codemirror_mode": {
    "name": "ipython",
    "version": 3
   },
   "file_extension": ".py",
   "mimetype": "text/x-python",
   "name": "python",
   "nbconvert_exporter": "python",
   "pygments_lexer": "ipython3",
   "version": "3.6.2"
  }
 },
 "nbformat": 4,
 "nbformat_minor": 2
}
