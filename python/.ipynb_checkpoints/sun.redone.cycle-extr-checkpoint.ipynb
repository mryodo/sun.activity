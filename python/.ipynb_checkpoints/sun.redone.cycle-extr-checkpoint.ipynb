{
 "cells": [
  {
   "cell_type": "code",
   "execution_count": 2,
   "metadata": {
    "collapsed": true
   },
   "outputs": [],
   "source": [
    "import matplotlib.pyplot as plt\n",
    "import numpy as np\n",
    "from scipy import interpolate\n",
    "from scipy.signal import argrelextrema\n",
    "import time\n",
    "\n",
    "from math import *"
   ]
  },
  {
   "cell_type": "code",
   "execution_count": 3,
   "metadata": {
    "collapsed": true
   },
   "outputs": [],
   "source": [
    "W=2*np.pi\n",
    "T=(2*np.pi)/W\n",
    "n=50\n",
    "L=n*T\n",
    "\n",
    "N_grid=10000\n",
    "t=np.linspace(0,L,N_grid)\n",
    "h=t[1]-t[0]\n",
    "p=int(round(T/h))\n",
    "\n",
    "d=2.5\n",
    "dd=-2.45\n",
    "\n",
    "dw_samples=np.linspace(0.05, 1.25, 50)"
   ]
  },
  {
   "cell_type": "code",
   "execution_count": 12,
   "metadata": {},
   "outputs": [
    {
     "name": "stderr",
     "output_type": "stream",
     "text": [
      "/usr/lib/python3.6/site-packages/scipy/signal/_peak_finding.py:68: RuntimeWarning: invalid value encountered in less\n",
      "  results &= comparator(main, plus)\n",
      "/usr/lib/python3.6/site-packages/scipy/signal/_peak_finding.py:69: RuntimeWarning: invalid value encountered in less\n",
      "  results &= comparator(main, minus)\n"
     ]
    },
    {
     "name": "stdout",
     "output_type": "stream",
     "text": [
      "-----:  62.8280508518219 6096  ----  0.05  -----  2\n",
      "-----:  62.089077949523926 3115  ----  0.0744897959184  -----  2\n",
      "-----:  60.19269919395447 2119  ----  0.0989795918367  -----  2\n",
      "-----:  54.943233013153076 1701  ----  0.123469387755  -----  2\n",
      "-----:  49.754650592803955 1394  ----  0.147959183673  -----  2\n",
      "-----:  49.960116147994995 1109  ----  0.172448979592  -----  2\n",
      "-----:  50.2928409576416 992  ----  0.19693877551  -----  2\n",
      "-----:  50.982062578201294 814  ----  0.221428571429  -----  2\n",
      "-----:  50.43967008590698 767  ----  0.245918367347  -----  1\n",
      "-----:  48.2651584148407 684  ----  0.270408163265  -----  2\n",
      "-----:  49.475828647613525 599  ----  0.294897959184  -----  2\n",
      "-----:  43.2454514503479 520  ----  0.319387755102  -----  2\n",
      "-----:  43.97646927833557 497  ----  0.34387755102  -----  2\n",
      "-----:  43.31328868865967 453  ----  0.368367346939  -----  1\n",
      "-----:  43.139829874038696 411  ----  0.392857142857  -----  1\n",
      "-----:  44.10836839675903 392  ----  0.417346938776  -----  2\n",
      "-----:  38.6644401550293 364  ----  0.441836734694  -----  2\n",
      "-----:  39.7752001285553 326  ----  0.466326530612  -----  2\n",
      "-----:  44.34206295013428 309  ----  0.490816326531  -----  1\n",
      "-----:  36.06806802749634 295  ----  0.515306122449  -----  2\n",
      "-----:  35.351662158966064 280  ----  0.539795918367  -----  1\n",
      "-----:  35.2689995765686 266  ----  0.564285714286  -----  2\n",
      "-----:  35.24628686904907 242  ----  0.588775510204  -----  2\n",
      "-----:  30.760101556777954 227  ----  0.613265306122  -----  2\n",
      "-----:  35.17409157752991 215  ----  0.637755102041  -----  1\n",
      "-----:  35.231009006500244 207  ----  0.662244897959  -----  1\n",
      "-----:  35.54316473007202 193  ----  0.686734693878  -----  1\n",
      "-----:  35.73010516166687 183  ----  0.711224489796  -----  2\n",
      "-----:  39.76876974105835 173  ----  0.735714285714  -----  2\n",
      "-----:  30.72984480857849 164  ----  0.760204081633  -----  2\n",
      "-----:  36.55022883415222 156  ----  0.784693877551  -----  2\n",
      "-----:  37.73905324935913 149  ----  0.809183673469  -----  2\n",
      "-----:  34.59676742553711 142  ----  0.833673469388  -----  2\n",
      "-----:  34.35801601409912 136  ----  0.858163265306  -----  2\n",
      "-----:  33.538280963897705 129  ----  0.882653061224  -----  2\n",
      "-----:  31.96849012374878 122  ----  0.907142857143  -----  2\n",
      "-----:  30.912631511688232 115  ----  0.931632653061  -----  2\n",
      "-----:  33.73547005653381 106  ----  0.95612244898  -----  2\n",
      "-----:  33.60126233100891 98  ----  0.980612244898  -----  2\n",
      "-----:  34.35622239112854 90  ----  1.00510204082  -----  2\n",
      "-----:  26.880150079727173 83  ----  1.02959183673  -----  2\n",
      "-----:  34.129791259765625 77  ----  1.05408163265  -----  2\n",
      "-----:  30.01854395866394 71  ----  1.07857142857  -----  2\n",
      "-----:  29.936765909194946 65  ----  1.10306122449  -----  2\n",
      "-----:  30.74064326286316 59  ----  1.12755102041  -----  2\n",
      "-----:  30.170517444610596 54  ----  1.15204081633  -----  2\n",
      "-----:  30.12699556350708 47  ----  1.17653061224  -----  2\n",
      "-----:  30.241638660430908 40  ----  1.20102040816  -----  2\n",
      "-----:  25.25254487991333 30  ----  1.22551020408  -----  2\n",
      "-----:  20.133671522140503 1  ----  1.25  -----  1\n"
     ]
    }
   ],
   "source": [
    "dual_border=[]\n",
    "for dw in dw_samples:\n",
    "    left=1\n",
    "    if dw==0.05:\n",
    "        right=N_grid-2*p-1\n",
    "    else:\n",
    "        right=dual_border[-1]\n",
    " \n",
    "    start = time.time()\n",
    "    while (right-left>1):\n",
    "        s=round((left+right)/2)\n",
    "\n",
    "        k0=np.array([d]*N_grid)\n",
    "        k0[2*p:2*p+s]=d+dd\n",
    "        k0_f=interpolate.interp1d(t, k0, bounds_error=False, fill_value=\"extrapolate\")\n",
    "\n",
    "        f=lambda t, x: 2*dw-k0_f(t)*sin(x)\n",
    "\n",
    "        init=np.arcsin(2*dw/k0[0])\n",
    "\n",
    "        theta=[0]*N_grid\n",
    "        for i in range(N_grid):\n",
    "            if i==0:\n",
    "                theta[i]=init\n",
    "            else:\n",
    "                k1=f(t[i-1], theta[i-1])*h\n",
    "                k2=f(t[i-1]+h/2, theta[i-1]+k1/2)*h\n",
    "                k3=f(t[i-1]+h/2, theta[i-1]+k2/2)*h\n",
    "                k4=f(t[i-1]+h, theta[i-1]+k3)*h\n",
    "\n",
    "                theta[i]=theta[i-1]+(k1+2*k2+2*k3+k4)/6\n",
    "\n",
    "        theta=np.array(theta)\n",
    "        x0=np.sin(W*t)\n",
    "        y0=np.sin(W*t+theta)\n",
    "\n",
    "        C_0=[0]*N_grid\n",
    "        for i in range(N_grid):\n",
    "            if (t[i]-T/2>=0) and (t[i]+T/2<=L):\n",
    "                C_0[i]=np.corrcoef(x0[i-int(p/2):i+int(p/2)], y0[i-int(p/2):i+int(p/2)])[0][1]\n",
    "            else:\n",
    "                C_0[i]=nan\n",
    "\n",
    "        phi0=np.arccos(C_0)\n",
    "        k_hat=np.divide(np.array([2*dw]*N_grid), np.sin(phi0))\n",
    "\n",
    "        dmin=argrelextrema(k_hat, np.less)\n",
    "        n_min=dmin[0].shape[0]\n",
    "        extr=[]\n",
    "\n",
    "        eps=0.001\n",
    "\n",
    "        for i in range(n_min):\n",
    "            if ((((i==0) and (k_hat[dmin[0][i]]<k_hat[dmin[0][i+1]]))\n",
    "                or ((i==n_min-1) and (k_hat[dmin[0][i]]<k_hat[dmin[0][i-1]]))\n",
    "                or ((k_hat[dmin[0][i]]<k_hat[dmin[0][i-1]]) and (k_hat[dmin[0][i]]<k_hat[dmin[0][i+1]])))\n",
    "                and (dmin[0][i]>2*p) and (abs(k_hat[dmin[0][i]]-d)>eps)):\n",
    "                    extr.append(dmin[0][i])\n",
    "\n",
    "        dk=np.diff(k_hat)/h\n",
    "        dk=np.nan_to_num(dk)\n",
    "        #print(left, right)\n",
    "        if (max(dk)>15) or ((len(extr)>1) and (extr[0]<=2*p+s) and (extr[1]>2*p+s)):\n",
    "            right=s\n",
    "        else:\n",
    "            left=s\n",
    "\n",
    "    stop = time.time()        \n",
    "    print('-----: ', stop-start, left, ' ---- ', dw, ' ----- ', len(extr))\n",
    "    dual_border.append(left)\n",
    "    \n",
    "np.savetxt('PT1409_50_10000_extr2_cor.out', dual_border, delimiter=',')"
   ]
  },
  {
   "cell_type": "code",
   "execution_count": 5,
   "metadata": {
    "collapsed": true
   },
   "outputs": [],
   "source": [
    "def savitzky_golay(y, window_size, order, deriv=0, rate=1):\n",
    "    from math import factorial\n",
    "    \n",
    "    order_range = range(order+1)\n",
    "    half_window = (window_size -1) // 2\n",
    "    \n",
    "    b = np.mat([[k**i for i in order_range] for k in range(-half_window, half_window+1)])\n",
    "    m = np.linalg.pinv(b).A[deriv] * rate**deriv * factorial(deriv)\n",
    "    \n",
    "    firstvals = y[0] - np.abs( y[1:half_window+1][::-1] - y[0] )\n",
    "    lastvals = y[-1] + np.abs(y[-half_window-1:-1][::-1] - y[-1])\n",
    "    y = np.concatenate((firstvals, y, lastvals))\n",
    "    return np.convolve( m[::-1], y, mode='valid')"
   ]
  },
  {
   "cell_type": "code",
   "execution_count": 8,
   "metadata": {
    "collapsed": true
   },
   "outputs": [],
   "source": [
    "dw_samples=np.linspace(0.05, 1.25, 200)\n",
    "dual_border=np.fromfile(file='PT2407_50_20000_extr2.out', sep='\\n')\n",
    "dual_border_sm=savitzky_golay(dual_border, 51, 3)"
   ]
  },
  {
   "cell_type": "code",
   "execution_count": 16,
   "metadata": {},
   "outputs": [
    {
     "data": {
      "image/png": "[encoded data removed]",
      "text/plain": [
       "<matplotlib.figure.Figure at 0x7fa18a00a710>"
      ]
     },
     "metadata": {},
     "output_type": "display_data"
    }
   ],
   "source": [
    "plt.figure(figsize=(7,7))\n",
    "plt.plot(dw_samples, dual_border[50:])\n",
    "dual_border2=np.fromfile(file='PT1409_50_10000_extr_break_fast_long.out', sep='\\n')\n",
    "plt.plot(dw_samples, dual_border2, 'r')\n",
    "plt.show()"
   ]
  },
  {
   "cell_type": "code",
   "execution_count": null,
   "metadata": {
    "collapsed": true
   },
   "outputs": [],
   "source": [
    "plt.figure(figsize=(7,7))\n",
    "plt.plot(dw_samples, dual_border[50:])\n",
    "dual_border2=np.fromfile(file='PT1409_50_10000_extr_break_fast_long.out', sep='\\n')\n",
    "plt.plot(dw_samples, dual_border2, 'r')\n",
    "plt.show()"
   ]
  }
 ],
 "metadata": {
  "kernelspec": {
   "display_name": "Python 3",
   "language": "python",
   "name": "python3"
  },
  "language_info": {
   "codemirror_mode": {
    "name": "ipython",
    "version": 3
   },
   "file_extension": ".py",
   "mimetype": "text/x-python",
   "name": "python",
   "nbconvert_exporter": "python",
   "pygments_lexer": "ipython3",
   "version": "3.6.2"
  }
 },
 "nbformat": 4,
 "nbformat_minor": 2
}
