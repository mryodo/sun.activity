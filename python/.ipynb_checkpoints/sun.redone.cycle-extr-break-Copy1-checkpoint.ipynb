{
 "cells": [
  {
   "cell_type": "code",
   "execution_count": 15,
   "metadata": {
    "collapsed": true
   },
   "outputs": [],
   "source": [
    "import matplotlib.pyplot as plt\n",
    "import numpy as np\n",
    "from scipy import interpolate\n",
    "from scipy.signal import argrelextrema\n",
    "import time\n",
    "\n",
    "from math import *"
   ]
  },
  {
   "cell_type": "code",
   "execution_count": 19,
   "metadata": {
    "collapsed": true
   },
   "outputs": [],
   "source": [
    "W=2*np.pi\n",
    "T=(2*np.pi)/W\n",
    "n=50\n",
    "L=n*T\n",
    "\n",
    "N_grid=10000\n",
    "t=np.linspace(0,L,N_grid)\n",
    "h=t[1]-t[0]\n",
    "p=int(round(T/h))\n",
    "\n",
    "d=0.25\n",
    "dd=-0.2\n",
    "\n",
    "dw_samples=np.linspace(0.05, 0.125, 50)\n"
   ]
  },
  {
   "cell_type": "code",
   "execution_count": 20,
   "metadata": {},
   "outputs": [
    {
     "name": "stdout",
     "output_type": "stream",
     "text": [
      "-----:  92.16713547706604 8107 0.05\n",
      "-----:  71.05036544799805 7471 0.0515306122449\n",
      "-----:  68.88766312599182 7309 0.0530612244898\n",
      "-----:  64.05724000930786 6629 0.0545918367347\n",
      "-----:  64.6985330581665 6307 0.0561224489796\n",
      "-----:  58.979634046554565 6119 0.0576530612245\n",
      "-----:  63.73328447341919 5740 0.0591836734694\n",
      "-----:  64.40086841583252 5471 0.0607142857143\n",
      "-----:  59.13835954666138 5111 0.0622448979592\n",
      "-----:  59.92231345176697 4952 0.0637755102041\n",
      "-----:  64.61428332328796 4682 0.065306122449\n",
      "-----:  59.008851528167725 4422 0.0668367346939\n",
      "-----:  67.69236731529236 4301 0.0683673469388\n",
      "-----:  75.43208193778992 4169 0.0698979591837\n",
      "-----:  77.03609609603882 3878 0.0714285714286\n",
      "-----:  73.19349765777588 3692 0.0729591836735\n",
      "-----:  73.75097727775574 3534 0.0744897959184\n",
      "-----:  72.19179821014404 3384 0.0760204081633\n",
      "-----:  58.00037956237793 3241 0.0775510204082\n",
      "-----:  56.772605657577515 3115 0.0790816326531\n",
      "-----:  56.49233293533325 3091 0.080612244898\n",
      "-----:  55.91523456573486 2898 0.0821428571429\n",
      "-----:  53.498475074768066 2737 0.0836734693878\n",
      "-----:  51.19832682609558 2620 0.0852040816327\n",
      "-----:  56.47405481338501 2506 0.0867346938776\n",
      "-----:  52.69143605232239 2408 0.0882653061224\n",
      "-----:  59.884936571121216 2293 0.0897959183673\n",
      "-----:  54.97299408912659 2195 0.0913265306122\n",
      "-----:  59.62900161743164 2097 0.0928571428571\n",
      "-----:  53.677958965301514 2003 0.094387755102\n",
      "-----:  54.65222477912903 1916 0.0959183673469\n",
      "-----:  55.5990207195282 1824 0.0974489795918\n",
      "-----:  54.95838212966919 1737 0.0989795918367\n",
      "-----:  50.727683305740356 1654 0.100510204082\n",
      "-----:  55.20488953590393 1569 0.102040816327\n",
      "-----:  52.929449796676636 1489 0.103571428571\n",
      "-----:  49.419644355773926 1451 0.105102040816\n",
      "-----:  49.31041717529297 1329 0.106632653061\n",
      "-----:  50.045727491378784 1250 0.108163265306\n",
      "-----:  53.46780037879944 1177 0.109693877551\n",
      "-----:  52.052189111709595 1094 0.111224489796\n",
      "-----:  51.65631341934204 1013 0.112755102041\n",
      "-----:  49.06895160675049 937 0.114285714286\n",
      "-----:  49.13720154762268 866 0.115816326531\n",
      "-----:  49.02324175834656 783 0.117346938776\n",
      "-----:  48.74828028678894 686 0.11887755102\n",
      "-----:  43.53329038619995 590 0.120408163265\n",
      "-----:  43.2600679397583 488 0.12193877551\n",
      "-----:  44.70230746269226 373 0.123469387755\n",
      "-----:  38.353022813797 187 0.125\n"
     ]
    }
   ],
   "source": [
    "dual_border=[]\n",
    "for dw in dw_samples:\n",
    "    left=1\n",
    "    if dw==0.05:\n",
    "        right=N_grid-2*p-1\n",
    "    else:\n",
    "        right=dual_border[-1]\n",
    "  \n",
    "    start = time.time()\n",
    "    while (right-left>1):\n",
    "        s=round((left+right)/2)\n",
    "\n",
    "        k0=np.array([d]*N_grid)\n",
    "        k0[2*p:2*p+s]=d+dd\n",
    "        k0_f=interpolate.interp1d(t, k0, bounds_error=False, fill_value=\"extrapolate\")\n",
    "\n",
    "        f=lambda t, x: 2*dw-k0_f(t)*sin(x)\n",
    "\n",
    "        init=np.arcsin(2*dw/k0[0])\n",
    "\n",
    "        theta=[0]*N_grid\n",
    "        for i in range(N_grid):\n",
    "            if i==0:\n",
    "                theta[i]=init\n",
    "            else:\n",
    "                k1=f(t[i-1], theta[i-1])*h\n",
    "                k2=f(t[i-1]+h/2, theta[i-1]+k1/2)*h\n",
    "                k3=f(t[i-1]+h/2, theta[i-1]+k2/2)*h\n",
    "                k4=f(t[i-1]+h, theta[i-1]+k3)*h\n",
    "\n",
    "                theta[i]=theta[i-1]+(k1+2*k2+2*k3+k4)/6\n",
    "\n",
    "        theta=np.array(theta)\n",
    "        x0=np.sin(W*t)\n",
    "        y0=np.sin(W*t+theta)\n",
    "\n",
    "        C_0=[0]*N_grid\n",
    "        for i in range(N_grid):\n",
    "            if (t[i]-T/2>=0) and (t[i]+T/2<=L):\n",
    "                C_0[i]=np.corrcoef(x0[i-int(p/2):i+int(p/2)], y0[i-int(p/2):i+int(p/2)])[0][1]\n",
    "            else:\n",
    "                C_0[i]=nan\n",
    "\n",
    "        phi0=np.arccos(C_0)\n",
    "        k_hat=np.divide(np.array([2*dw]*N_grid), np.sin(phi0))\n",
    "\n",
    "        \n",
    "        dk=np.diff(k_hat)/h\n",
    "        dk=np.nan_to_num(dk)\n",
    "        #print(left, right)\n",
    "        if (max(dk)>15):\n",
    "            right=s\n",
    "        else:\n",
    "            left=s\n",
    "\n",
    "    stop = time.time()        \n",
    "    print('-----: ', stop-start, left, dw)\n",
    "    dual_border.append(left)\n",
    "    \n",
    "np.savetxt('PT1409_50_10000_extr_break_fast_long_025.out', dual_border, delimiter=',')"
   ]
  },
  {
   "cell_type": "code",
   "execution_count": 6,
   "metadata": {
    "collapsed": true
   },
   "outputs": [],
   "source": [
    "def savitzky_golay(y, window_size, order, deriv=0, rate=1):\n",
    "    from math import factorial\n",
    "    \n",
    "    order_range = range(order+1)\n",
    "    half_window = (window_size -1) // 2\n",
    "    \n",
    "    b = np.mat([[k**i for i in order_range] for k in range(-half_window, half_window+1)])\n",
    "    m = np.linalg.pinv(b).A[deriv] * rate**deriv * factorial(deriv)\n",
    "    \n",
    "    firstvals = y[0] - np.abs( y[1:half_window+1][::-1] - y[0] )\n",
    "    lastvals = y[-1] + np.abs(y[-half_window-1:-1][::-1] - y[-1])\n",
    "    y = np.concatenate((firstvals, y, lastvals))\n",
    "    return np.convolve( m[::-1], y, mode='valid')"
   ]
  },
  {
   "cell_type": "code",
   "execution_count": 7,
   "metadata": {
    "collapsed": true
   },
   "outputs": [],
   "source": [
    "dw_samples=np.linspace(0.05, 1.25, 50)\n",
    "dual_border=np.fromfile(file='PT1409_50_10000_extr_break_fast_long.out', sep='\\n')\n",
    "#dual_border_sm=savitzky_golay(dual_border, 70, 1)"
   ]
  },
  {
   "cell_type": "code",
   "execution_count": 21,
   "metadata": {},
   "outputs": [
    {
     "data": {
      "image/png": "[encoded data removed]",
      "text/plain": [
       "<matplotlib.figure.Figure at 0x7fadc4b75438>"
      ]
     },
     "metadata": {},
     "output_type": "display_data"
    }
   ],
   "source": [
    "plt.figure(figsize=(7,7))\n",
    "#dual_border=np.array([9598, 3088, 1800, 1244, 933, 734, 595, 493, 415, 364, 300, 257, 220, 188, 159, 132, 107, 82, 57, 1])\n",
    "plt.plot(dw_samples, dual_border)\n",
    "#plt.plot(dw_samples, dual_border_sm, 'r')\n",
    "plt.show()"
   ]
  },
  {
   "cell_type": "code",
   "execution_count": null,
   "metadata": {
    "collapsed": true
   },
   "outputs": [],
   "source": []
  }
 ],
 "metadata": {
  "kernelspec": {
   "display_name": "Python 3",
   "language": "python",
   "name": "python3"
  },
  "language_info": {
   "codemirror_mode": {
    "name": "ipython",
    "version": 3
   },
   "file_extension": ".py",
   "mimetype": "text/x-python",
   "name": "python",
   "nbconvert_exporter": "python",
   "pygments_lexer": "ipython3",
   "version": "3.6.2"
  }
 },
 "nbformat": 4,
 "nbformat_minor": 2
}
