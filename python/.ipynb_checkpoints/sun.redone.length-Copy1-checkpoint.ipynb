{
 "cells": [
  {
   "cell_type": "code",
   "execution_count": 1,
   "metadata": {
    "collapsed": true
   },
   "outputs": [],
   "source": [
    "import matplotlib.pyplot as plt\n",
    "import numpy as np\n",
    "from scipy import interpolate\n",
    "from scipy.signal import argrelextrema\n",
    "import time\n",
    "\n",
    "from math import *"
   ]
  },
  {
   "cell_type": "code",
   "execution_count": 3,
   "metadata": {
    "collapsed": true
   },
   "outputs": [],
   "source": [
    "W=2*np.pi\n",
    "T=(2*np.pi)/W\n",
    "n=50\n",
    "L=n*T\n",
    "\n",
    "N_grid=10000\n",
    "t=np.linspace(0,L,N_grid)\n",
    "h=t[1]-t[0]\n",
    "p=int(round(T/h))\n",
    "\n",
    "d=0.25\n",
    "dd=-0.2\n",
    "\n",
    "dw=0.1"
   ]
  },
  {
   "cell_type": "code",
   "execution_count": 8,
   "metadata": {},
   "outputs": [
    {
     "name": "stderr",
     "output_type": "stream",
     "text": [
      "/usr/lib/python3.6/site-packages/scipy/signal/_peak_finding.py:68: RuntimeWarning: invalid value encountered in less\n",
      "  results &= comparator(main, plus)\n",
      "/usr/lib/python3.6/site-packages/scipy/signal/_peak_finding.py:69: RuntimeWarning: invalid value encountered in less\n",
      "  results &= comparator(main, minus)\n"
     ]
    },
    {
     "name": "stdout",
     "output_type": "stream",
     "text": [
      "0 4.565080404281616 ------- nan\n",
      "1 4.654645204544067 ------- 0\n",
      "2 4.560354471206665 ------- 0\n",
      "3 4.56456446647644 ------- 0\n",
      "4 4.6423492431640625 ------- 0\n",
      "5 4.704646825790405 ------- 0\n",
      "6 5.009050369262695 ------- 0\n",
      "7 4.914963722229004 ------- 0\n",
      "8 4.92045521736145 ------- 0\n",
      "9 5.003755569458008 ------- 0\n",
      "10 4.7417755126953125 ------- 0\n",
      "11 4.687137603759766 ------- 0\n",
      "12 4.785808324813843 ------- 0\n",
      "13 4.687680006027222 ------- 0\n",
      "14 5.167880296707153 ------- 0\n",
      "15 4.90545392036438 ------- 0\n",
      "16 4.931045770645142 ------- 0\n",
      "17 4.958466053009033 ------- 0\n",
      "18 4.966960668563843 ------- 0\n",
      "19 4.915508508682251 ------- 0\n",
      "20 5.293238401412964 ------- 0\n",
      "21 5.01567816734314 ------- 0\n",
      "22 4.963740587234497 ------- 0\n",
      "23 4.990641117095947 ------- 0\n",
      "24 4.961983919143677 ------- 0\n",
      "25 4.904805660247803 ------- 0\n",
      "26 4.974780321121216 ------- 0\n",
      "27 4.912419557571411 ------- 0\n",
      "28 5.225985765457153 ------- 0\n",
      "29 5.1615684032440186 ------- 0\n",
      "30 5.174726247787476 ------- 0\n",
      "31 5.155076742172241 ------- 0\n",
      "32 5.288359880447388 ------- 0\n",
      "33 5.157848119735718 ------- 0\n",
      "34 5.2061192989349365 ------- 0\n",
      "35 5.139868974685669 ------- 0\n",
      "36 5.259486198425293 ------- 0\n",
      "37 5.160314321517944 ------- 0\n",
      "38 5.170089960098267 ------- 0\n",
      "39 5.208717107772827 ------- 0\n",
      "40 5.187800645828247 ------- 0\n",
      "41 5.205097436904907 ------- 0\n",
      "42 5.140111684799194 ------- 0\n",
      "43 5.128992319107056 ------- 0\n",
      "44 5.1651599407196045 ------- 156\n",
      "45 5.130693674087524 ------- 217\n",
      "46 5.1700119972229 ------- 310\n",
      "47 5.221126556396484 ------- 402\n",
      "48 5.211383819580078 ------- 492\n",
      "49 5.133423566818237 ------- 576\n",
      "50 5.188554763793945 ------- 628\n",
      "51 5.2329652309417725 ------- 716\n",
      "52 5.10881781578064 ------- 807\n",
      "53 5.222164630889893 ------- 899\n",
      "54 4.97819709777832 ------- 991\n",
      "55 5.082854747772217 ------- 1081\n",
      "56 5.252371549606323 ------- 1140\n",
      "57 5.183568477630615 ------- 1226\n",
      "58 5.2556962966918945 ------- 1319\n",
      "59 5.165468215942383 ------- 1414\n",
      "60 5.151340007781982 ------- 1511\n",
      "61 4.994208574295044 ------- 1609\n",
      "62 4.730704307556152 ------- 1707\n",
      "63 5.02665114402771 ------- 1807\n",
      "64 4.98748517036438 ------- 1909\n",
      "65 5.077140808105469 ------- 2012\n",
      "66 5.129915714263916 ------- 2117\n",
      "67 5.325689792633057 ------- 2225\n",
      "68 5.223949432373047 ------- 2369\n",
      "69 5.210386037826538 ------- 2491\n",
      "70 5.259824991226196 ------- 2606\n",
      "71 5.238439321517944 ------- 2727\n",
      "72 5.236312627792358 ------- 2894\n",
      "73 5.2132182121276855 ------- 3022\n",
      "74 5.199198484420776 ------- 3202\n",
      "75 5.223546266555786 ------- 3388\n",
      "76 5.242360830307007 ------- 3582\n",
      "77 5.001745700836182 ------- 3792\n",
      "78 5.364744424819946 ------- 4013\n",
      "79 5.570988893508911 ------- 4303\n",
      "80 5.799116134643555 ------- 4622\n",
      "81 5.342706203460693 ------- 5075\n",
      "82 5.275269508361816 ------- 5633\n",
      "83 4.982651233673096 ------- 6640\n",
      "84 5.154664993286133 ------- 0\n",
      "85 5.014783620834351 ------- nan\n",
      "86 5.070566415786743 ------- nan\n",
      "87 4.708572864532471 ------- nan\n",
      "88 4.946573734283447 ------- nan\n",
      "89 4.982706785202026 ------- nan\n",
      "90 5.088717937469482 ------- nan\n",
      "91 5.264968395233154 ------- nan\n",
      "92 4.726891994476318 ------- nan\n",
      "93 4.83336615562439 ------- nan\n",
      "94 4.820899248123169 ------- nan\n",
      "95 4.71011209487915 ------- nan\n",
      "96 4.8183488845825195 ------- nan\n",
      "97 5.014770746231079 ------- nan\n",
      "98 5.026839256286621 ------- nan\n",
      "99 5.035816669464111 ------- nan\n"
     ]
    }
   ],
   "source": [
    "exlen=[]\n",
    "ex1=[]\n",
    "ex2=[]\n",
    "\n",
    "for k in range(100):\n",
    "\n",
    "    start = time.time()\n",
    "    s=20*k\n",
    "    k0=np.array([d]*N_grid)\n",
    "    k0[2*p:2*p+s]=d+dd\n",
    "    k0_f=interpolate.interp1d(t, k0, bounds_error=False, fill_value=\"extrapolate\")\n",
    "\n",
    "    f=lambda t, x: 2*dw-k0_f(t)*sin(x)\n",
    "    init=np.arcsin(2*dw/k0[0])\n",
    "\n",
    "    theta=[0]*N_grid\n",
    "    for i in range(N_grid):\n",
    "        if i==0:\n",
    "            theta[i]=init\n",
    "        else:\n",
    "            k1=f(t[i-1], theta[i-1])*h\n",
    "            k2=f(t[i-1]+h/2, theta[i-1]+k1/2)*h\n",
    "            k3=f(t[i-1]+h/2, theta[i-1]+k2/2)*h\n",
    "            k4=f(t[i-1]+h, theta[i-1]+k3)*h\n",
    "            \n",
    "            theta[i]=theta[i-1]+(k1+2*k2+2*k3+k4)/6\n",
    "\n",
    "    theta=np.array(theta)\n",
    "    x0=np.sin(W*t)\n",
    "    y0=np.sin(W*t+theta)\n",
    "\n",
    "    C_0=[0]*N_grid\n",
    "    for i in range(N_grid):\n",
    "        if (t[i]-T/2>=0) and (t[i]+T/2<=L):\n",
    "            C_0[i]=np.corrcoef(x0[i-int(p/2):i+int(p/2)], y0[i-int(p/2):i+int(p/2)])[0][1]\n",
    "        else:\n",
    "            C_0[i]=nan\n",
    "\n",
    "    phi0=np.arccos(C_0)\n",
    "    k_hat=np.divide(np.array([2*dw]*N_grid), np.sin(phi0))\n",
    "\n",
    "    dmin=argrelextrema(k_hat, np.less)\n",
    "    n_min=dmin[0].shape[0]\n",
    "    extr=[]\n",
    "\n",
    "    eps=0.001\n",
    "\n",
    "    for i in range(n_min):\n",
    "        if ((((i==0) and (k_hat[dmin[0][i]]<k_hat[dmin[0][i+1]]))\n",
    "             or ((i==n_min-1) and (k_hat[dmin[0][i]]<k_hat[dmin[0][i-1]]))\n",
    "             or ((k_hat[dmin[0][i]]<k_hat[dmin[0][i-1]]) and (k_hat[dmin[0][i]]<k_hat[dmin[0][i+1]])))\n",
    "             and (dmin[0][i]>2*p) and (abs(k_hat[dmin[0][i]]-d)>eps)):\n",
    "                 extr.append(dmin[0][i])\n",
    "\n",
    "    dk=np.diff(k_hat)/h\n",
    "    dk=np.nan_to_num(dk)\n",
    "        \n",
    "    if (max(dk)>15) or (len(extr)==0):\n",
    "        exlen.append(nan)\n",
    "        ex1.append(nan)\n",
    "        ex2.append(nan)\n",
    "    else:\n",
    "        if ((len(extr)>1) and (extr[0]<=2*p+s) and (extr[1]>2*p+s)):\n",
    "            exlen.append(extr[1]-extr[0])\n",
    "            ex1.append(k_hat[extr[0]])\n",
    "            ex2.append(k_hat[extr[1]])\n",
    "        else:\n",
    "            exlen.append(0)\n",
    "            ex1.append(k_hat[extr[0]])\n",
    "            ex2.append(k_hat[extr[0]])\n",
    "    stop = time.time()        \n",
    "    print(k, stop-start, '-------', exlen[-1])\n",
    "    \n",
    "np.savetxt('PT1409_50_10000_extr2_len.out', exlen, delimiter=',')\n",
    "np.savetxt('PT1409_50_10000_extr2_ex1.out', ex1, delimiter=',')\n",
    "np.savetxt('PT1409_50_10000_extr2_ex2.out', ex1, delimiter=',')"
   ]
  },
  {
   "cell_type": "code",
   "execution_count": 10,
   "metadata": {},
   "outputs": [
    {
     "data": {
      "image/png": "[encoded data removed]",
      "text/plain": [
       "<matplotlib.figure.Figure at 0x7f2242e15cf8>"
      ]
     },
     "metadata": {},
     "output_type": "display_data"
    }
   ],
   "source": [
    "exlen[84]=nan\n",
    "plt.figure(figsize=(7,7))\n",
    "plt.plot(exlen)\n",
    "plt.show()"
   ]
  },
  {
   "cell_type": "code",
   "execution_count": 11,
   "metadata": {},
   "outputs": [
    {
     "data": {
      "image/png": "[encoded data removed]",
      "text/plain": [
       "<matplotlib.figure.Figure at 0x7f2242d61d68>"
      ]
     },
     "metadata": {},
     "output_type": "display_data"
    }
   ],
   "source": [
    "ex1[84]=nan\n",
    "ex2[84]=nan\n",
    "plt.figure(figsize=(7,7))\n",
    "plt.plot(ex1, 'b')\n",
    "plt.plot(ex2, 'r')\n",
    "plt.show()"
   ]
  },
  {
   "cell_type": "code",
   "execution_count": 16,
   "metadata": {},
   "outputs": [
    {
     "data": {
      "image/png": "[encoded data removed]",
      "text/plain": [
       "<matplotlib.figure.Figure at 0x7f2242c74748>"
      ]
     },
     "metadata": {},
     "output_type": "display_data"
    }
   ],
   "source": [
    "ex1[84]=nan\n",
    "ex2[84]=nan\n",
    "plt.figure(figsize=(7,7))\n",
    "plt.plot(np.array(ex2)/dd-np.array(ex1)/dd, 'b')\n",
    "plt.show()"
   ]
  },
  {
   "cell_type": "code",
   "execution_count": null,
   "metadata": {
    "collapsed": true
   },
   "outputs": [],
   "source": []
  }
 ],
 "metadata": {
  "kernelspec": {
   "display_name": "Python 3",
   "language": "python",
   "name": "python3"
  },
  "language_info": {
   "codemirror_mode": {
    "name": "ipython",
    "version": 3
   },
   "file_extension": ".py",
   "mimetype": "text/x-python",
   "name": "python",
   "nbconvert_exporter": "python",
   "pygments_lexer": "ipython3",
   "version": "3.6.2"
  }
 },
 "nbformat": 4,
 "nbformat_minor": 2
}
